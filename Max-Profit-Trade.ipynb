{
 "cells": [
  {
   "cell_type": "markdown",
   "metadata": {},
   "source": [
    "\n",
    "1. Stock price is given in a list that is in chronological order.\n",
    "## Time Complexity : O(n) "
   ]
  },
  {
   "cell_type": "code",
   "execution_count": 1,
   "metadata": {},
   "outputs": [],
   "source": [
    "def calculate_max_profit(stock_price_list):\n",
    "    \n",
    "    #Length of the list\n",
    "    l = len(stock_price_list)\n",
    "    \n",
    "    # Initialize profit, current max, and max profit value\n",
    "    profit = stock_price_list[1] - stock_price_list[0]\n",
    "    current_max_profit = profit\n",
    "    max_profit = current_max_profit\n",
    "    \n",
    "    for i in range(1, l - 1):\n",
    "        # Calculate current profit\n",
    "        profit = stock_price_list[i + 1] - stock_price_list[i]\n",
    "        \n",
    "        if (current_max_profit > 0):\n",
    "            current_max_profit += profit\n",
    "        else:\n",
    "            current_max_profit = profit\n",
    "            \n",
    "        \n",
    "        # Find max_profit max  \n",
    "        if (current_max_profit > max_profit):\n",
    "            max_profit = current_max_profit          \n",
    "                 \n",
    "    return max_profit"
   ]
  },
  {
   "cell_type": "code",
   "execution_count": 2,
   "metadata": {},
   "outputs": [
    {
     "name": "stdout",
     "output_type": "stream",
     "text": [
      "98\n"
     ]
    }
   ],
   "source": [
    "stock_price_list= [100, 1, 99]\n",
    "print(calculate_max_profit(stock_price_list))"
   ]
  },
  {
   "cell_type": "code",
   "execution_count": 3,
   "metadata": {},
   "outputs": [
    {
     "name": "stdout",
     "output_type": "stream",
     "text": [
      "10\n"
     ]
    }
   ],
   "source": [
    "stock_price_list= [80, 10, 7, 5, 7, 15]\n",
    "print(calculate_max_profit(stock_price_list))"
   ]
  },
  {
   "cell_type": "code",
   "execution_count": null,
   "metadata": {},
   "outputs": [],
   "source": []
  }
 ],
 "metadata": {
  "kernelspec": {
   "display_name": "Python 3",
   "language": "python",
   "name": "python3"
  },
  "language_info": {
   "codemirror_mode": {
    "name": "ipython",
    "version": 3
   },
   "file_extension": ".py",
   "mimetype": "text/x-python",
   "name": "python",
   "nbconvert_exporter": "python",
   "pygments_lexer": "ipython3",
   "version": "3.8.5"
  }
 },
 "nbformat": 4,
 "nbformat_minor": 4
}
